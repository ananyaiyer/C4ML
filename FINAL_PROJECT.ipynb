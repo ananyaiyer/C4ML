{
  "nbformat": 4,
  "nbformat_minor": 0,
  "metadata": {
    "colab": {
      "name": "FINAL_PROJECT.ipynb",
      "provenance": [],
      "authorship_tag": "ABX9TyMUVr4vTsmWYnkr1eVDTfD3",
      "include_colab_link": true
    },
    "kernelspec": {
      "name": "python3",
      "display_name": "Python 3"
    }
  },
  "cells": [
    {
      "cell_type": "markdown",
      "metadata": {
        "id": "view-in-github",
        "colab_type": "text"
      },
      "source": [
        "<a href=\"https://colab.research.google.com/github/ananyaiyer/C4ML/blob/master/FINAL_PROJECT.ipynb\" target=\"_parent\"><img src=\"https://colab.research.google.com/assets/colab-badge.svg\" alt=\"Open In Colab\"/></a>"
      ]
    },
    {
      "cell_type": "code",
      "metadata": {
        "id": "UFLxhgJtkWBg",
        "colab_type": "code",
        "colab": {}
      },
      "source": [
        "import numpy as np\n",
        "import pandas as pd\n",
        "import matplotlib.pyplot as plt\n",
        "import seaborn as sns\n",
        "import tensorflow as tf\n",
        "from tensorflow import keras\n",
        "from tensorflow.keras.models import Sequential\n",
        "from tensorflow.keras.layers import Dense, Activation, Flatten\n",
        "from tensorflow.keras.callbacks import EarlyStopping"
      ],
      "execution_count": 0,
      "outputs": []
    },
    {
      "cell_type": "code",
      "metadata": {
        "id": "VE4rH5bmmstO",
        "colab_type": "code",
        "colab": {}
      },
      "source": [
        "digit  = tf.keras.datasets.mnist\n",
        "(X_train, y_train), (X_test, y_test) = digit.load_data()"
      ],
      "execution_count": 0,
      "outputs": []
    },
    {
      "cell_type": "code",
      "metadata": {
        "id": "I3-Ho1gjnVlR",
        "colab_type": "code",
        "colab": {
          "base_uri": "https://localhost:8080/",
          "height": 85
        },
        "outputId": "348e9d48-e401-43f3-ba22-12408599eae6"
      },
      "source": [
        "#checking dimensions\n",
        "print(X_train.shape)\n",
        "print(y_train.shape)\n",
        "print(X_test.shape)\n",
        "print(y_test.shape)"
      ],
      "execution_count": 7,
      "outputs": [
        {
          "output_type": "stream",
          "text": [
            "(60000, 28, 28)\n",
            "(60000,)\n",
            "(10000, 28, 28)\n",
            "(10000,)\n"
          ],
          "name": "stdout"
        }
      ]
    },
    {
      "cell_type": "code",
      "metadata": {
        "id": "3fqUSNytneSQ",
        "colab_type": "code",
        "colab": {}
      },
      "source": [
        "#normalize\n",
        "X_train=tf.keras.utils.normalize(X_train)\n",
        "X_test=tf.keras.utils.normalize(X_test)"
      ],
      "execution_count": 0,
      "outputs": []
    },
    {
      "cell_type": "code",
      "metadata": {
        "id": "gxaePCuVnZlf",
        "colab_type": "code",
        "colab": {
          "base_uri": "https://localhost:8080/",
          "height": 282
        },
        "outputId": "0ce6785e-c49c-482d-8517-05fcac17f26f"
      },
      "source": [
        "plt.imshow(X_train[1])"
      ],
      "execution_count": 16,
      "outputs": [
        {
          "output_type": "execute_result",
          "data": {
            "text/plain": [
              "<matplotlib.image.AxesImage at 0x7f0401ad00f0>"
            ]
          },
          "metadata": {
            "tags": []
          },
          "execution_count": 16
        },
        {
          "output_type": "display_data",
          "data": {
            "image/png": "[encoded data removed]",
            "text/plain": [
              "<Figure size 432x288 with 1 Axes>"
            ]
          },
          "metadata": {
            "tags": [],
            "needs_background": "light"
          }
        }
      ]
    },
    {
      "cell_type": "code",
      "metadata": {
        "id": "rNtkokLvvtuD",
        "colab_type": "code",
        "colab": {
          "base_uri": "https://localhost:8080/",
          "height": 672
        },
        "outputId": "82d77f68-df45-45c7-c23b-b822e32a8781"
      },
      "source": [
        "plt.figure(figsize=(20,20))\n",
        "for i in range(15):\n",
        "    plt.subplot(5,5,i+1)\n",
        "    plt.xticks([])\n",
        "    plt.yticks([])\n",
        "    plt.grid(False)\n",
        "    plt.imshow(X_train[i])\n",
        "plt.show()"
      ],
      "execution_count": 68,
      "outputs": [
        {
          "output_type": "display_data",
          "data": {
            "image/png": "[encoded data removed]",
            "text/plain": [
              "<Figure size 1440x1440 with 15 Axes>"
            ]
          },
          "metadata": {
            "tags": []
          }
        }
      ]
    },
    {
      "cell_type": "code",
      "metadata": {
        "id": "p_WJP27po6oY",
        "colab_type": "code",
        "colab": {}
      },
      "source": [
        "#MODEL\n",
        "model = tf.keras.models.Sequential()\n",
        "model.add(tf.keras.layers.Flatten())\n",
        "model.add(tf.keras.layers.Dense(128,activation=tf.nn.relu))\n",
        "model.add(tf.keras.layers.Dense(128,activation=tf.nn.relu))\n",
        "model.add(tf.keras.layers.Dense(128,activation=tf.nn.relu))\n",
        "model.add(tf.keras.layers.Dense(128,activation=tf.nn.relu))\n",
        "model.add(tf.keras.layers.Dense(128,activation=tf.nn.relu))\n",
        "model.add(tf.keras.layers.Dense(10,activation=tf.nn.softmax))\n"
      ],
      "execution_count": 0,
      "outputs": []
    },
    {
      "cell_type": "code",
      "metadata": {
        "id": "kvsV3Kemv89w",
        "colab_type": "code",
        "colab": {
          "base_uri": "https://localhost:8080/",
          "height": 306
        },
        "outputId": "28a63a6e-661b-4136-e1c3-383cc96160ed"
      },
      "source": [
        "model.compile(optimizer = 'adam',loss = 'sparse_categorical_crossentropy',metrics = 'accuracy')\n",
        "\n",
        "callback=EarlyStopping(monitor='val_loss',patience = 3,verbose=0,mode='min')\n",
        "\n",
        "model.fit(X_train,y_train,validation_data=(X_test,y_test),batch_size=128,callbacks=[callback],epochs=15)"
      ],
      "execution_count": 83,
      "outputs": [
        {
          "output_type": "stream",
          "text": [
            "Epoch 1/15\n",
            "469/469 [==============================] - 3s 6ms/step - loss: 0.0114 - accuracy: 0.9967 - val_loss: 0.1400 - val_accuracy: 0.9793\n",
            "Epoch 2/15\n",
            "469/469 [==============================] - 3s 5ms/step - loss: 0.0067 - accuracy: 0.9979 - val_loss: 0.1298 - val_accuracy: 0.9794\n",
            "Epoch 3/15\n",
            "469/469 [==============================] - 2s 5ms/step - loss: 0.0071 - accuracy: 0.9979 - val_loss: 0.1724 - val_accuracy: 0.9709\n",
            "Epoch 4/15\n",
            "469/469 [==============================] - 3s 5ms/step - loss: 0.0089 - accuracy: 0.9972 - val_loss: 0.1510 - val_accuracy: 0.9755\n",
            "Epoch 5/15\n",
            "469/469 [==============================] - 3s 5ms/step - loss: 0.0093 - accuracy: 0.9969 - val_loss: 0.1237 - val_accuracy: 0.9781\n",
            "Epoch 6/15\n",
            "469/469 [==============================] - 2s 5ms/step - loss: 0.0053 - accuracy: 0.9983 - val_loss: 0.1277 - val_accuracy: 0.9787\n",
            "Epoch 7/15\n",
            "469/469 [==============================] - 2s 5ms/step - loss: 0.0075 - accuracy: 0.9978 - val_loss: 0.1272 - val_accuracy: 0.9761\n",
            "Epoch 8/15\n",
            "469/469 [==============================] - 3s 5ms/step - loss: 0.0077 - accuracy: 0.9978 - val_loss: 0.1332 - val_accuracy: 0.9765\n"
          ],
          "name": "stdout"
        },
        {
          "output_type": "execute_result",
          "data": {
            "text/plain": [
              "<tensorflow.python.keras.callbacks.History at 0x7f03f7547710>"
            ]
          },
          "metadata": {
            "tags": []
          },
          "execution_count": 83
        }
      ]
    },
    {
      "cell_type": "code",
      "metadata": {
        "id": "0_5szEACqTdp",
        "colab_type": "code",
        "colab": {}
      },
      "source": [
        "loss = pd.DataFrame(model.history.history)\n"
      ],
      "execution_count": 0,
      "outputs": []
    },
    {
      "cell_type": "code",
      "metadata": {
        "id": "WhKzVkisraik",
        "colab_type": "code",
        "colab": {
          "base_uri": "https://localhost:8080/",
          "height": 282
        },
        "outputId": "3b5405ec-1ccc-47bd-e6bb-126f6339991d"
      },
      "source": [
        "loss.plot()"
      ],
      "execution_count": 85,
      "outputs": [
        {
          "output_type": "execute_result",
          "data": {
            "text/plain": [
              "<matplotlib.axes._subplots.AxesSubplot at 0x7f03f7611780>"
            ]
          },
          "metadata": {
            "tags": []
          },
          "execution_count": 85
        },
        {
          "output_type": "display_data",
          "data": {
            "image/png": "[encoded data removed]",
            "text/plain": [
              "<Figure size 432x288 with 1 Axes>"
            ]
          },
          "metadata": {
            "tags": [],
            "needs_background": "light"
          }
        }
      ]
    },
    {
      "cell_type": "code",
      "metadata": {
        "id": "I6OVFAnTxehB",
        "colab_type": "code",
        "colab": {
          "base_uri": "https://localhost:8080/",
          "height": 51
        },
        "outputId": "4873a78a-32c1-4206-c76e-87f9f06054e9"
      },
      "source": [
        "val_loss, val_acc= model.evaluate(X_test,y_test)\n",
        "print(val_loss, val_acc)"
      ],
      "execution_count": 88,
      "outputs": [
        {
          "output_type": "stream",
          "text": [
            "313/313 [==============================] - 0s 1ms/step - loss: 0.1332 - accuracy: 0.9765\n",
            "0.13324004411697388 0.9764999747276306\n"
          ],
          "name": "stdout"
        }
      ]
    },
    {
      "cell_type": "code",
      "metadata": {
        "id": "7ekAveAgx_uh",
        "colab_type": "code",
        "colab": {
          "base_uri": "https://localhost:8080/",
          "height": 238
        },
        "outputId": "648ba84e-05e5-44b2-93cf-7bc92886764c"
      },
      "source": [
        "pred = model.predict(X_test)\n",
        "print(pred)\n"
      ],
      "execution_count": 93,
      "outputs": [
        {
          "output_type": "stream",
          "text": [
            "[[2.3954781e-19 4.0505531e-15 1.4032922e-16 ... 1.0000000e+00\n",
            "  1.1182628e-19 1.6804293e-14]\n",
            " [3.9867450e-18 2.2383828e-19 1.0000000e+00 ... 1.1743751e-15\n",
            "  1.5986349e-16 4.8357831e-21]\n",
            " [4.8388550e-17 9.9999976e-01 1.3613164e-08 ... 1.2680100e-07\n",
            "  1.7487861e-07 1.1136894e-13]\n",
            " ...\n",
            " [1.7201284e-18 1.4918783e-15 3.8730954e-14 ... 1.4672761e-15\n",
            "  5.4506828e-13 5.7220118e-14]\n",
            " [2.0839486e-15 5.4325885e-18 2.1243750e-18 ... 1.0663504e-18\n",
            "  3.7064462e-12 4.4746645e-13]\n",
            " [3.3037025e-11 1.7332942e-12 3.5232299e-12 ... 2.4613647e-13\n",
            "  3.1080994e-13 2.0985713e-15]]\n"
          ],
          "name": "stdout"
        }
      ]
    },
    {
      "cell_type": "code",
      "metadata": {
        "id": "_MMYPvHtyZK5",
        "colab_type": "code",
        "colab": {
          "base_uri": "https://localhost:8080/",
          "height": 34
        },
        "outputId": "01241d3c-6b65-473b-fd1d-1d4fe9db5d84"
      },
      "source": [
        "print(np.argmax(pred[1000]))\n"
      ],
      "execution_count": 95,
      "outputs": [
        {
          "output_type": "stream",
          "text": [
            "9\n"
          ],
          "name": "stdout"
        }
      ]
    },
    {
      "cell_type": "code",
      "metadata": {
        "id": "qpkwG8-jymDn",
        "colab_type": "code",
        "colab": {
          "base_uri": "https://localhost:8080/",
          "height": 265
        },
        "outputId": "95251f0f-1b06-4e54-81d8-58f946299ff7"
      },
      "source": [
        "plt.imshow(X_test[1000])\n",
        "plt.show()"
      ],
      "execution_count": 97,
      "outputs": [
        {
          "output_type": "display_data",
          "data": {
            "image/png": "[encoded data removed]",
            "text/plain": [
              "<Figure size 432x288 with 1 Axes>"
            ]
          },
          "metadata": {
            "tags": [],
            "needs_background": "light"
          }
        }
      ]
    },
    {
      "cell_type": "code",
      "metadata": {
        "id": "_scjybyvzqXH",
        "colab_type": "code",
        "colab": {
          "base_uri": "https://localhost:8080/",
          "height": 34
        },
        "outputId": "609f6963-ab4f-4312-e985-dc3d2cfcf866"
      },
      "source": [
        "model.save(\"NUMBER_reader.model\")"
      ],
      "execution_count": 98,
      "outputs": [
        {
          "output_type": "stream",
          "text": [
            "INFO:tensorflow:Assets written to: NUMBER_reader.model/assets\n"
          ],
          "name": "stdout"
        }
      ]
    }
  ]
}